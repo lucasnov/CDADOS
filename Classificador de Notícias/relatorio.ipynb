{
 "cells": [
  {
   "cell_type": "markdown",
   "metadata": {},
   "source": [
    "# Projeto 1 - Ciência dos Dados"
   ]
  },
  {
   "cell_type": "markdown",
   "metadata": {},
   "source": [
    "Nome: Alexandre Santarossa\n",
    "\n",
    "Nome: Lucas Novais\n",
    "\n",
    "Nome: Marcelo Neves"
   ]
  },
  {
   "cell_type": "markdown",
   "metadata": {},
   "source": [
    "Atenção: Serão permitidos grupos de três pessoas, mas com uma rubrica mais exigente. Grupos deste tamanho precisarão fazer um questionário de avaliação de trabalho em equipe"
   ]
  },
  {
   "cell_type": "markdown",
   "metadata": {},
   "source": [
    "___\n",
    "Carregando algumas bibliotecas:"
   ]
  },
  {
   "cell_type": "code",
   "execution_count": 1,
   "metadata": {},
   "outputs": [],
   "source": [
    "%matplotlib inline\n",
    "import math\n",
    "import pandas as pd\n",
    "import matplotlib.pyplot as plt\n",
    "import os\n",
    "from numpy import arange\n",
    "import pandas as pd\n",
    "from IPython.display import display\n",
    "pd.options.display.max_rows = 13"
   ]
  },
  {
   "cell_type": "code",
   "execution_count": 2,
   "metadata": {},
   "outputs": [],
   "source": [
    "#função de tratamento de textos\n",
    "import re \n",
    "\n",
    "#função para limpar texto\n",
    "def cleanup(text):\n",
    "    \n",
    "    punctuation = '[!-.:?;]'\n",
    "    pattern = re.compile(punctuation)\n",
    "    text_subbed = re.sub(pattern, '', text)\n",
    "    return text_subbed\n",
    "\n",
    "\n",
    "#Função para remover palavras irrelevantes para a analise\n",
    "def remove_palavras(fr):\n",
    "    lista_remover = ['de', 'a', 'o', 'da', 'do', 'e', 'em','que', 'para', 'no', 'na','com','as','os','dos','das','nesta','um','uma','uns','umas','por','aos','à','ao']\n",
    "    result = [palavra for palavra in fr if palavra not in lista_remover]\n",
    "    return(result)\n",
    "\n",
    "\n",
    "#função que transforma lista de frases em tabela relativa das palavras contidas na lista\n",
    "def formatador_tabela_rel(text):\n",
    "    \n",
    "    pal_teste = []\n",
    "    \n",
    "    for frase in text:\n",
    "        bleble = str(frase)\n",
    "        bleble = cleanup(bleble.lower())\n",
    "        blabla = remove_palavras(bleble.split())\n",
    "        for palavra in blabla:\n",
    "            pal_teste.append(palavra)\n",
    "            \n",
    "    serie_test = pd.Series(pal_teste).value_counts(True)\n",
    "    \n",
    "    return serie_test\n",
    "\n",
    "\n",
    "# função que transforma lista de frases em tabela absoluta das palavras contidas na lista\n",
    "def formatador_tabela_abs(text):\n",
    "    \n",
    "    pal_teste = []\n",
    "    \n",
    "    for frase in text:\n",
    "        bleble = str(frase)\n",
    "        bleble = cleanup(bleble.lower())\n",
    "        blabla = remove_palavras(bleble.split())\n",
    "        for palavra in blabla:\n",
    "            pal_teste.append(palavra)\n",
    "            \n",
    "    serie_test = pd.Series(pal_teste).value_counts() \n",
    "    \n",
    "    return serie_test\n",
    "\n",
    "\n",
    "#função que recebe uma lista com as palavras da notícia e retorna o índice da categoria com maior probabiblidade de classificar a notícia, -> 0:Outros  1:Política  2:Mercado\n",
    "def calcula_prob_dada_modalidade(noticia, tabela_abs_todas, tabela_abs_out, tabela_abs_pol, tabela_abs_fin):\n",
    "    \n",
    "    noticia = remove_palavras(noticia.split())\n",
    "    \n",
    "    PFraseDadoOut = 1\n",
    "    PFraseDadoPol = 1\n",
    "    PFraseDadoFin = 1\n",
    "    \n",
    "    soma_out = sum(tabela_abs_out)\n",
    "    soma_pol = sum(tabela_abs_pol)\n",
    "    soma_fin = sum(tabela_abs_fin)\n",
    "    \n",
    "    for palavra in noticia:\n",
    "        #Suavização de LaPlace\n",
    "        if palavra not in tabela_abs_out:\n",
    "            Ppal = 1/(soma_out+len(tabela_abs_todas))\n",
    "            \n",
    "        else:\n",
    "            Ppal = (tabela_abs_out[palavra]+1)/(soma_out+len(tabela_abs_todas))\n",
    "        \n",
    "        PFraseDadoOut = PFraseDadoOut*Ppal\n",
    "        \n",
    "    for palavra in noticia:\n",
    "        #Suavização de LaPlace\n",
    "        if palavra not in tabela_abs_pol:\n",
    "            Ppal = 1/(soma_pol+len(tabela_abs_todas))\n",
    "        else:\n",
    "            Ppal = (tabela_abs_pol[palavra]+1)/(soma_pol+len(tabela_abs_todas))\n",
    "        \n",
    "        PFraseDadoPol = PFraseDadoPol*Ppal\n",
    "            \n",
    "    for palavra in noticia:\n",
    "        #Suavização de LaPlace\n",
    "        if palavra not in tabela_abs_fin:\n",
    "            Ppal = 1/(soma_fin+len(tabela_abs_todas))\n",
    "        else:\n",
    "            Ppal = (tabela_abs_fin[palavra]+1)/(soma_fin+len(tabela_abs_todas))\n",
    "        \n",
    "        PFraseDadoFin = PFraseDadoFin*Ppal\n",
    "        \n",
    "    \n",
    "    #índices-> 0:Outros  1:Política  2:Mercado\n",
    "    lista = [Poutros*PFraseDadoOut, Ppolit*PFraseDadoPol, Pfinan*PFraseDadoFin]\n",
    "    \n",
    "    maior = max(lista)\n",
    "    \n",
    "    indice = lista.index(maior)\n",
    "    \n",
    "    return(indice)\n",
    "\n",
    "\n",
    "\n",
    "#Função que dado DataFrame de noticias e as tabelas absolutas(Categorias+Todas), devolve uma lista dos percentuais [acertos, erros] do classificador\n",
    "def verifica(teste, tabela_abs_todas, tabela_abs_out, tabela_abs_pol, tabela_abs_fin):\n",
    "    \n",
    "    acertos = 0\n",
    "    erros = 0\n",
    "    \n",
    "    for i in range(1,len(teste)): \n",
    "        \n",
    "        taget = teste.iloc[i,5]\n",
    "        \n",
    "        if taget == 'Mercado':\n",
    "            taget = 2\n",
    "            \n",
    "        elif taget == 'Política':\n",
    "            taget = 1\n",
    "            \n",
    "        elif taget == 'Outros':\n",
    "            taget = 0\n",
    "            \n",
    "        \n",
    "        texto1= teste.iloc[i,1]\n",
    "        texto2= teste.iloc[i,2]\n",
    "        texto= f\"{texto1}\" + ' ' + f\"{texto2}\"\n",
    "        \n",
    "        verif = calcula_prob_dada_modalidade(texto, tabela_abs_todas, tabela_abs_out, tabela_abs_pol, tabela_abs_fin)\n",
    "        \n",
    "        if verif == taget:\n",
    "            acertos+=1\n",
    "        else:\n",
    "            erros+=1\n",
    "    \n",
    "    acertos_pc = round((acertos/len(teste)*100), 2)\n",
    "    erros_pc = round((erros/len(teste)*100), 2)\n",
    "    \n",
    "    \n",
    "    return ([acertos_pc, erros_pc])\n",
    "\n",
    "\n",
    "\n",
    "#Função que recebe um DataFrame(todas as notícias), separa ele em treino e teste (proporção 3:2) e devolve uma lista dos percentuais [acertos, erros] do classificador\n",
    "#O argumento opcional 'limite' apenas foi usado para limitar os prints (max=10) da função quando usada dentro da função repetidor\n",
    "def funcao_mae(dataframe, limite=-1):\n",
    "    \n",
    "    num = int(len(dataframe)*3/5)\n",
    "    treino = dataframe.sample(n=num)\n",
    "    testando = pd.concat([dataframe,treino]).drop_duplicates(keep=False)\n",
    "\n",
    "    \n",
    "    #Separando Targets\n",
    "    outros = treino.loc[treino['Target']=='Outros',:]\n",
    "    polit = treino.loc[treino['Target']=='Política',:]\n",
    "    finan = treino.loc[treino['Target']=='Mercado',:]\n",
    "    \n",
    "    \n",
    "    #Obtendo textos das notícias\n",
    "    frases_outros = outros['Titulo'].tolist() + outros['PrimeiroParag'].tolist()\n",
    "    frases_polit = polit['Titulo'].tolist() + polit['PrimeiroParag'].tolist()\n",
    "    frases_finan = finan['Titulo'].tolist() + finan['PrimeiroParag'].tolist()\n",
    "\n",
    "\n",
    "    #tabelas relativas das palavras em cada categoria\n",
    "    tabela_abs_out = formatador_tabela_abs(frases_outros)\n",
    "    tabela_abs_pol = formatador_tabela_abs(frases_polit)\n",
    "    tabela_abs_fin = formatador_tabela_abs(frases_finan)\n",
    "    \n",
    "    \n",
    "    titulo_todas = todas['Titulo'].tolist()\n",
    "    pp_todas = todas['PrimeiroParag'].tolist()\n",
    "    todas_juntas = titulo_todas + pp_todas\n",
    "    tabela_abs_todas = formatador_tabela_abs(todas_juntas)\n",
    "    \n",
    "    \n",
    "    Poutros = len(tabela_abs_out)/len(tabela_abs_todas)\n",
    "    Ppolit = len(tabela_abs_pol)/len(tabela_abs_todas)\n",
    "    Pfinan = len(tabela_abs_fin)/len(tabela_abs_todas)\n",
    "    \n",
    "    \n",
    "    resultado = verifica(testando,tabela_abs_todas,tabela_abs_out,tabela_abs_pol,tabela_abs_fin)\n",
    "    \n",
    "    if limite<10:\n",
    "        print('Acertos:{}% -- Erros:{}%'.format(resultado[0], resultado[1]))\n",
    "    if limite==10:\n",
    "        print('...')\n",
    "    if limite==30:\n",
    "        print('Calculando o restante dos percentuais...')\n",
    "    if limite==100:\n",
    "        print('...')\n",
    "        \n",
    "    return(resultado)\n",
    "\n",
    "\n",
    "\n",
    "#Função que recebe um dataframe(df) e um inteiro (n) e retorna o percentual médio dos erros e acertos do classificador aprendendo e testando n vezes, plota um gráfico de densidade dos acertos\n",
    "def repetidor(df,n):\n",
    "    \n",
    "    acertos_total = 0\n",
    "    erros_total = 0\n",
    "    \n",
    "    dados_obtidos = []\n",
    "    \n",
    "    for i in range(0,n):\n",
    "        \n",
    "        l1 = funcao_mae(df,i)\n",
    "        \n",
    "        acertos_total+=l1[0]\n",
    "        erros_total+=l1[1]\n",
    "        \n",
    "        dados_obtidos.append(l1[0])\n",
    "        \n",
    "    acertos_totalm = round(acertos_total/n,2)\n",
    "    erros_totalm = round(erros_total/n, 2)\n",
    "    \n",
    "    print(' ')\n",
    "    print('Percentual médio de acertos: {}%'.format(acertos_totalm))\n",
    "    print('Percentual médio de erros: {}%'.format(erros_totalm))\n",
    "    \n",
    "    limMenor = round(min(dados_obtidos))\n",
    "    limMaior = round(max(dados_obtidos))\n",
    "    \n",
    "    dados_obtidos = pd.Series(dados_obtidos).to_frame()\n",
    "    \n",
    "    faixa = arange(limMenor,limMaior,0.25)\n",
    "\n",
    "    fig = plt.figure(figsize=(18, 10))\n",
    "    plot = plt.hist(dados_obtidos, bins=faixa, density=True, \n",
    "                    color='turquoise', edgecolor='white', alpha=1)\n",
    "    plt.xlabel('% de Acertos')\n",
    "    plt.ylabel('Densidade')\n",
    "    plt.title('Qualidade do Classificador - {} amostras'.format(n))\n",
    "    plt.xlim(limMenor-1, limMaior+1)\n",
    "\n",
    "    return()\n"
   ]
  },
  {
   "cell_type": "code",
   "execution_count": 3,
   "metadata": {
    "scrolled": false
   },
   "outputs": [
    {
     "name": "stdout",
     "output_type": "stream",
     "text": [
      "Esperamos trabalhar no diretório\n",
      "C:\\Users\\home\\Desktop\\insper\\2022_1\\CDados\\Projeto_1\\22-1a-cd-p1-grupo_alexandrers3\n"
     ]
    }
   ],
   "source": [
    "print('Esperamos trabalhar no diretório')\n",
    "print(os.getcwd())"
   ]
  },
  {
   "cell_type": "markdown",
   "metadata": {},
   "source": [
    "Carregando a base de dados com as notícias classificadas manualmente:"
   ]
  },
  {
   "cell_type": "code",
   "execution_count": 4,
   "metadata": {},
   "outputs": [
    {
     "data": {
      "text/plain": [
       "Mercado     60.466667\n",
       "Outros      22.600000\n",
       "Política    16.933333\n",
       "Name: Target, dtype: float64"
      ]
     },
     "execution_count": 4,
     "metadata": {},
     "output_type": "execute_result"
    }
   ],
   "source": [
    "filename = 'dados.xlsx'\n",
    "\n",
    "#Todas as notícias\n",
    "todas = pd.read_excel(filename, sheet_name = 'Planilha1')\n",
    "\n",
    "#Nomeando Targets\n",
    "todas['Target'] = todas['Target'].astype('category')\n",
    "todas.Target.cat.categories = ['Mercado', 'Política', 'Outros']\n",
    "todas.Target = pd.Categorical(todas.Target, categories=['Mercado', 'Política', 'Outros'], ordered=False)\n",
    "todas['Target'].value_counts(True)*100"
   ]
  },
  {
   "cell_type": "code",
   "execution_count": 5,
   "metadata": {},
   "outputs": [
    {
     "data": {
      "text/html": [
       "<div>\n",
       "<style scoped>\n",
       "    .dataframe tbody tr th:only-of-type {\n",
       "        vertical-align: middle;\n",
       "    }\n",
       "\n",
       "    .dataframe tbody tr th {\n",
       "        vertical-align: top;\n",
       "    }\n",
       "\n",
       "    .dataframe thead th {\n",
       "        text-align: right;\n",
       "    }\n",
       "</style>\n",
       "<table border=\"1\" class=\"dataframe\">\n",
       "  <thead>\n",
       "    <tr style=\"text-align: right;\">\n",
       "      <th></th>\n",
       "      <th>Categoria</th>\n",
       "      <th>Titulo</th>\n",
       "      <th>PrimeiroParag</th>\n",
       "      <th>Data</th>\n",
       "      <th>Pagina</th>\n",
       "      <th>Target</th>\n",
       "    </tr>\n",
       "  </thead>\n",
       "  <tbody>\n",
       "    <tr>\n",
       "      <th>0</th>\n",
       "      <td>Ações</td>\n",
       "      <td>Quais ações e fundos de ações os grandes inves...</td>\n",
       "      <td>Em agosto, o Ibovespa teve uma perda de 3,44%....</td>\n",
       "      <td>17/09/2020 - 12:03</td>\n",
       "      <td>142</td>\n",
       "      <td>1</td>\n",
       "    </tr>\n",
       "    <tr>\n",
       "      <th>1</th>\n",
       "      <td>Agro Times</td>\n",
       "      <td>Estiagem: ministra da Agricultura diz que visi...</td>\n",
       "      <td>A ministra da Agricultura, Tereza Cristina, es...</td>\n",
       "      <td>13/01/2022 - 11:00</td>\n",
       "      <td>25</td>\n",
       "      <td>2</td>\n",
       "    </tr>\n",
       "    <tr>\n",
       "      <th>2</th>\n",
       "      <td>Agronegócio</td>\n",
       "      <td>JBS firma parceria com BB para estimular regul...</td>\n",
       "      <td>A fim de facilitar a contratação de crédito po...</td>\n",
       "      <td>24/02/2022 - 16:20</td>\n",
       "      <td>9</td>\n",
       "      <td>2</td>\n",
       "    </tr>\n",
       "    <tr>\n",
       "      <th>3</th>\n",
       "      <td>Agronegócio</td>\n",
       "      <td>Governo estuda remanejar recursos do Plano Saf...</td>\n",
       "      <td>O governo federal estuda remanejar os recursos...</td>\n",
       "      <td>27/08/2021 - 20:10</td>\n",
       "      <td>54</td>\n",
       "      <td>2</td>\n",
       "    </tr>\n",
       "    <tr>\n",
       "      <th>4</th>\n",
       "      <td>Agronegócio</td>\n",
       "      <td>“Granja do futuro” tem ar-condicionado para av...</td>\n",
       "      <td>Uma das maiores companhias de alimentos do mun...</td>\n",
       "      <td>22/06/2021 - 12:10</td>\n",
       "      <td>67</td>\n",
       "      <td>3</td>\n",
       "    </tr>\n",
       "  </tbody>\n",
       "</table>\n",
       "</div>"
      ],
      "text/plain": [
       "      Categoria                                             Titulo  \\\n",
       "0        Ações   Quais ações e fundos de ações os grandes inves...   \n",
       "1   Agro Times   Estiagem: ministra da Agricultura diz que visi...   \n",
       "2  Agronegócio   JBS firma parceria com BB para estimular regul...   \n",
       "3  Agronegócio   Governo estuda remanejar recursos do Plano Saf...   \n",
       "4  Agronegócio   “Granja do futuro” tem ar-condicionado para av...   \n",
       "\n",
       "                                       PrimeiroParag                Data  \\\n",
       "0  Em agosto, o Ibovespa teve uma perda de 3,44%....  17/09/2020 - 12:03   \n",
       "1  A ministra da Agricultura, Tereza Cristina, es...  13/01/2022 - 11:00   \n",
       "2  A fim de facilitar a contratação de crédito po...  24/02/2022 - 16:20   \n",
       "3  O governo federal estuda remanejar os recursos...  27/08/2021 - 20:10   \n",
       "4  Uma das maiores companhias de alimentos do mun...  22/06/2021 - 12:10   \n",
       "\n",
       "   Pagina  Target  \n",
       "0     142       1  \n",
       "1      25       2  \n",
       "2       9       2  \n",
       "3      54       2  \n",
       "4      67       3  "
      ]
     },
     "execution_count": 5,
     "metadata": {},
     "output_type": "execute_result"
    }
   ],
   "source": [
    "#Notícias de treino\n",
    "train = pd.read_excel(filename, sheet_name = 'Treinamento')\n",
    "train.head(5)"
   ]
  },
  {
   "cell_type": "code",
   "execution_count": 6,
   "metadata": {},
   "outputs": [],
   "source": [
    "#Nomeando Targets\n",
    "train['Target'] = train['Target'].astype('category')\n",
    "train.Target.cat.categories = ['Mercado', 'Política', 'Outros']\n",
    "train.Target = pd.Categorical(train.Target, categories=['Mercado', 'Política', 'Outros'], ordered=False)"
   ]
  },
  {
   "cell_type": "code",
   "execution_count": 7,
   "metadata": {},
   "outputs": [
    {
     "data": {
      "text/html": [
       "<div>\n",
       "<style scoped>\n",
       "    .dataframe tbody tr th:only-of-type {\n",
       "        vertical-align: middle;\n",
       "    }\n",
       "\n",
       "    .dataframe tbody tr th {\n",
       "        vertical-align: top;\n",
       "    }\n",
       "\n",
       "    .dataframe thead th {\n",
       "        text-align: right;\n",
       "    }\n",
       "</style>\n",
       "<table border=\"1\" class=\"dataframe\">\n",
       "  <thead>\n",
       "    <tr style=\"text-align: right;\">\n",
       "      <th></th>\n",
       "      <th>Categoria</th>\n",
       "      <th>Titulo</th>\n",
       "      <th>PrimeiroParag</th>\n",
       "      <th>Data</th>\n",
       "      <th>Pagina</th>\n",
       "      <th>Target</th>\n",
       "    </tr>\n",
       "  </thead>\n",
       "  <tbody>\n",
       "    <tr>\n",
       "      <th>0</th>\n",
       "      <td>Agricultura</td>\n",
       "      <td>Corte de recursos no próximo plano safra preoc...</td>\n",
       "      <td>O próximo Plano Safra do Governo Federal, a se...</td>\n",
       "      <td>22/04/2021 - 17:29</td>\n",
       "      <td>82</td>\n",
       "      <td>2</td>\n",
       "    </tr>\n",
       "    <tr>\n",
       "      <th>1</th>\n",
       "      <td>Agronegócio</td>\n",
       "      <td>Banco do Brasil reforça linhas de crédito rura...</td>\n",
       "      <td>O Banco do Brasil (BBAS3) anunciou hoje (10) a...</td>\n",
       "      <td>10/11/2020 - 13:15</td>\n",
       "      <td>127</td>\n",
       "      <td>3</td>\n",
       "    </tr>\n",
       "    <tr>\n",
       "      <th>2</th>\n",
       "      <td>Agronegócio</td>\n",
       "      <td>Bolsonaro diz que safra brasileira chegará a 3...</td>\n",
       "      <td>O presidente Jair Bolsonaro disse hoje (28) qu...</td>\n",
       "      <td>28/06/2021 - 14:24</td>\n",
       "      <td>66</td>\n",
       "      <td>2</td>\n",
       "    </tr>\n",
       "    <tr>\n",
       "      <th>3</th>\n",
       "      <td>Agronegócio</td>\n",
       "      <td>Exportador de café Terra Forte tem plano de re...</td>\n",
       "      <td>O conglomerados exportador de café Terra Forte...</td>\n",
       "      <td>04/12/2020 - 20:30</td>\n",
       "      <td>122</td>\n",
       "      <td>2</td>\n",
       "    </tr>\n",
       "    <tr>\n",
       "      <th>4</th>\n",
       "      <td>Agronegócio</td>\n",
       "      <td>Agro versus Bradesco: além do churrasquinho gr...</td>\n",
       "      <td>Segunda (3), em paralelo ao movimento “Segunda...</td>\n",
       "      <td>31/12/2021 - 11:45</td>\n",
       "      <td>27</td>\n",
       "      <td>3</td>\n",
       "    </tr>\n",
       "  </tbody>\n",
       "</table>\n",
       "</div>"
      ],
      "text/plain": [
       "      Categoria                                             Titulo  \\\n",
       "0  Agricultura   Corte de recursos no próximo plano safra preoc...   \n",
       "1  Agronegócio   Banco do Brasil reforça linhas de crédito rura...   \n",
       "2  Agronegócio   Bolsonaro diz que safra brasileira chegará a 3...   \n",
       "3  Agronegócio   Exportador de café Terra Forte tem plano de re...   \n",
       "4  Agronegócio   Agro versus Bradesco: além do churrasquinho gr...   \n",
       "\n",
       "                                       PrimeiroParag                Data  \\\n",
       "0  O próximo Plano Safra do Governo Federal, a se...  22/04/2021 - 17:29   \n",
       "1  O Banco do Brasil (BBAS3) anunciou hoje (10) a...  10/11/2020 - 13:15   \n",
       "2  O presidente Jair Bolsonaro disse hoje (28) qu...  28/06/2021 - 14:24   \n",
       "3  O conglomerados exportador de café Terra Forte...  04/12/2020 - 20:30   \n",
       "4  Segunda (3), em paralelo ao movimento “Segunda...  31/12/2021 - 11:45   \n",
       "\n",
       "   Pagina  Target  \n",
       "0      82       2  \n",
       "1     127       3  \n",
       "2      66       2  \n",
       "3     122       2  \n",
       "4      27       3  "
      ]
     },
     "execution_count": 7,
     "metadata": {},
     "output_type": "execute_result"
    }
   ],
   "source": [
    "#Notícias de teste\n",
    "test = pd.read_excel(filename, sheet_name = 'Teste')\n",
    "test.head(5)"
   ]
  },
  {
   "cell_type": "code",
   "execution_count": 8,
   "metadata": {},
   "outputs": [],
   "source": [
    "#Nomeando Targets\n",
    "test['Target'] = test['Target'].astype('category')\n",
    "test.Target.cat.categories = ['Mercado', 'Política', 'Outros']\n",
    "test.Target = pd.Categorical(test.Target, categories=['Mercado', 'Política', 'Outros'], ordered=False)"
   ]
  },
  {
   "cell_type": "code",
   "execution_count": 9,
   "metadata": {},
   "outputs": [
    {
     "data": {
      "text/html": [
       "<div>\n",
       "<style scoped>\n",
       "    .dataframe tbody tr th:only-of-type {\n",
       "        vertical-align: middle;\n",
       "    }\n",
       "\n",
       "    .dataframe tbody tr th {\n",
       "        vertical-align: top;\n",
       "    }\n",
       "\n",
       "    .dataframe thead th {\n",
       "        text-align: right;\n",
       "    }\n",
       "</style>\n",
       "<table border=\"1\" class=\"dataframe\">\n",
       "  <thead>\n",
       "    <tr style=\"text-align: right;\">\n",
       "      <th></th>\n",
       "      <th>Categoria</th>\n",
       "      <th>Titulo</th>\n",
       "      <th>PrimeiroParag</th>\n",
       "      <th>Data</th>\n",
       "      <th>Pagina</th>\n",
       "      <th>Target</th>\n",
       "    </tr>\n",
       "  </thead>\n",
       "  <tbody>\n",
       "    <tr>\n",
       "      <th>0</th>\n",
       "      <td>Ações</td>\n",
       "      <td>Quais ações e fundos de ações os grandes inves...</td>\n",
       "      <td>Em agosto, o Ibovespa teve uma perda de 3,44%....</td>\n",
       "      <td>17/09/2020 - 12:03</td>\n",
       "      <td>142</td>\n",
       "      <td>Mercado</td>\n",
       "    </tr>\n",
       "    <tr>\n",
       "      <th>1</th>\n",
       "      <td>Bancos</td>\n",
       "      <td>Caixa tem lucro líquido de R$ 3,218 bi no 4º t...</td>\n",
       "      <td>A Caixa Econômica Federal anunciou lucro líqui...</td>\n",
       "      <td>24/02/2022 - 14:39</td>\n",
       "      <td>9</td>\n",
       "      <td>Mercado</td>\n",
       "    </tr>\n",
       "    <tr>\n",
       "      <th>2</th>\n",
       "      <td>Bancos</td>\n",
       "      <td>Itaú (ITUB4), Bradesco (BBDC4), Santander (SAN...</td>\n",
       "      <td>O Itaú (ITUB4), Bradesco (BBDC4),  Santander (...</td>\n",
       "      <td>16/02/2022 - 15:21</td>\n",
       "      <td>12</td>\n",
       "      <td>Mercado</td>\n",
       "    </tr>\n",
       "    <tr>\n",
       "      <th>3</th>\n",
       "      <td>Bancos</td>\n",
       "      <td>Banco do Brasil (BBAS3) espera lucrar até R$ 2...</td>\n",
       "      <td>O Banco do Brasil (BBAS3) considera lucrar ent...</td>\n",
       "      <td>14/02/2022 - 18:58</td>\n",
       "      <td>14</td>\n",
       "      <td>Mercado</td>\n",
       "    </tr>\n",
       "    <tr>\n",
       "      <th>4</th>\n",
       "      <td>Bancos</td>\n",
       "      <td>Retração de ações de bancos antecipa PIB fraco...</td>\n",
       "      <td>Os lucros dos grandes bancos brasileiros devem...</td>\n",
       "      <td>27/12/2021 - 13:01</td>\n",
       "      <td>28</td>\n",
       "      <td>Mercado</td>\n",
       "    </tr>\n",
       "    <tr>\n",
       "      <th>...</th>\n",
       "      <td>...</td>\n",
       "      <td>...</td>\n",
       "      <td>...</td>\n",
       "      <td>...</td>\n",
       "      <td>...</td>\n",
       "      <td>...</td>\n",
       "    </tr>\n",
       "    <tr>\n",
       "      <th>1495</th>\n",
       "      <td>Setor Imobiliário</td>\n",
       "      <td>Banco do Brasil (BBAS3) vende mais de 3,2 mil ...</td>\n",
       "      <td>O Banco do Brasil (BBAS3) está vendendo cerca ...</td>\n",
       "      <td>18/03/2022 - 13:58</td>\n",
       "      <td>1</td>\n",
       "      <td>Outros</td>\n",
       "    </tr>\n",
       "    <tr>\n",
       "      <th>1496</th>\n",
       "      <td>Setor Imobiliário</td>\n",
       "      <td>Itaú, Santander e BB levam mais de 100 imóveis...</td>\n",
       "      <td>A Biasi Leilões, uma das principais empresas d...</td>\n",
       "      <td>27/07/2021 - 16:42</td>\n",
       "      <td>62</td>\n",
       "      <td>Outros</td>\n",
       "    </tr>\n",
       "    <tr>\n",
       "      <th>1497</th>\n",
       "      <td>Sucroenergia</td>\n",
       "      <td>Com prazo de 20 anos e deságio de 80%, Grupo D...</td>\n",
       "      <td>Os produtores de cana credores do Grupo Diné s...</td>\n",
       "      <td>13/01/2022 - 13:48</td>\n",
       "      <td>24</td>\n",
       "      <td>Outros</td>\n",
       "    </tr>\n",
       "    <tr>\n",
       "      <th>1498</th>\n",
       "      <td>Sucroenergia</td>\n",
       "      <td>Franqueamento de áreas de cana ajudou deixar A...</td>\n",
       "      <td>Quando os problemas da Atvos se avolumaram na ...</td>\n",
       "      <td>20/08/2020 - 11:42</td>\n",
       "      <td>150</td>\n",
       "      <td>Outros</td>\n",
       "    </tr>\n",
       "    <tr>\n",
       "      <th>1499</th>\n",
       "      <td>Vagas de emprego</td>\n",
       "      <td>Santander abre mais de 30 vagas para pessoas c...</td>\n",
       "      <td>O Santander (SANB11), terceiro maior banco pri...</td>\n",
       "      <td>13/01/2022 - 11:58</td>\n",
       "      <td>25</td>\n",
       "      <td>Outros</td>\n",
       "    </tr>\n",
       "  </tbody>\n",
       "</table>\n",
       "<p>1500 rows × 6 columns</p>\n",
       "</div>"
      ],
      "text/plain": [
       "               Categoria                                             Titulo  \\\n",
       "0                 Ações   Quais ações e fundos de ações os grandes inves...   \n",
       "1                Bancos   Caixa tem lucro líquido de R$ 3,218 bi no 4º t...   \n",
       "2                Bancos   Itaú (ITUB4), Bradesco (BBDC4), Santander (SAN...   \n",
       "3                Bancos   Banco do Brasil (BBAS3) espera lucrar até R$ 2...   \n",
       "4                Bancos   Retração de ações de bancos antecipa PIB fraco...   \n",
       "...                  ...                                                ...   \n",
       "1495  Setor Imobiliário   Banco do Brasil (BBAS3) vende mais de 3,2 mil ...   \n",
       "1496  Setor Imobiliário   Itaú, Santander e BB levam mais de 100 imóveis...   \n",
       "1497       Sucroenergia   Com prazo de 20 anos e deságio de 80%, Grupo D...   \n",
       "1498       Sucroenergia   Franqueamento de áreas de cana ajudou deixar A...   \n",
       "1499   Vagas de emprego   Santander abre mais de 30 vagas para pessoas c...   \n",
       "\n",
       "                                          PrimeiroParag                Data  \\\n",
       "0     Em agosto, o Ibovespa teve uma perda de 3,44%....  17/09/2020 - 12:03   \n",
       "1     A Caixa Econômica Federal anunciou lucro líqui...  24/02/2022 - 14:39   \n",
       "2     O Itaú (ITUB4), Bradesco (BBDC4),  Santander (...  16/02/2022 - 15:21   \n",
       "3     O Banco do Brasil (BBAS3) considera lucrar ent...  14/02/2022 - 18:58   \n",
       "4     Os lucros dos grandes bancos brasileiros devem...  27/12/2021 - 13:01   \n",
       "...                                                 ...                 ...   \n",
       "1495  O Banco do Brasil (BBAS3) está vendendo cerca ...  18/03/2022 - 13:58   \n",
       "1496  A Biasi Leilões, uma das principais empresas d...  27/07/2021 - 16:42   \n",
       "1497  Os produtores de cana credores do Grupo Diné s...  13/01/2022 - 13:48   \n",
       "1498  Quando os problemas da Atvos se avolumaram na ...  20/08/2020 - 11:42   \n",
       "1499  O Santander (SANB11), terceiro maior banco pri...  13/01/2022 - 11:58   \n",
       "\n",
       "      Pagina   Target  \n",
       "0        142  Mercado  \n",
       "1          9  Mercado  \n",
       "2         12  Mercado  \n",
       "3         14  Mercado  \n",
       "4         28  Mercado  \n",
       "...      ...      ...  \n",
       "1495       1   Outros  \n",
       "1496      62   Outros  \n",
       "1497      24   Outros  \n",
       "1498     150   Outros  \n",
       "1499      25   Outros  \n",
       "\n",
       "[1500 rows x 6 columns]"
      ]
     },
     "execution_count": 9,
     "metadata": {},
     "output_type": "execute_result"
    }
   ],
   "source": [
    "todas"
   ]
  },
  {
   "cell_type": "markdown",
   "metadata": {},
   "source": [
    "___\n",
    "## Classificador automático\n"
   ]
  },
  {
   "cell_type": "markdown",
   "metadata": {},
   "source": [
    "<h5>Escolhemos o tema de 'Banco do Brasil', banco estatal que esta diretamente ligado a economia do governo brasileiro, por aparecer na mídia lincado diretamente com a política do Brasil e com sua ligação com o mercado mundial, temas presentes em muitas notícias pesquisadas e que utilizamos como Target para o nosso projeto.</h5>"
   ]
  },
  {
   "cell_type": "markdown",
   "metadata": {},
   "source": [
    "___\n",
    "### Montando um Classificador Naive-Bayes\n",
    "\n",
    "<h5>Considerando apenas as mensagens da planilha Treinamento, vamos ensinar o classificador.</h5>"
   ]
  },
  {
   "cell_type": "code",
   "execution_count": 18,
   "metadata": {},
   "outputs": [],
   "source": [
    "#Separando Targets\n",
    "outros = train.loc[train['Target']=='Outros',:]\n",
    "polit = train.loc[train['Target']=='Política',:]\n",
    "finan = train.loc[train['Target']=='Mercado',:]"
   ]
  },
  {
   "cell_type": "code",
   "execution_count": 19,
   "metadata": {},
   "outputs": [],
   "source": [
    "#Obtendo textos das notícias\n",
    "frases_outros = outros['Titulo'].tolist() + outros['PrimeiroParag'].tolist()\n",
    "frases_polit = polit['Titulo'].tolist() + polit['PrimeiroParag'].tolist()\n",
    "frases_finan = finan['Titulo'].tolist() + finan['PrimeiroParag'].tolist()"
   ]
  },
  {
   "cell_type": "code",
   "execution_count": 20,
   "metadata": {},
   "outputs": [],
   "source": [
    "#Obtendo textos das notícias\n",
    "titulo_test = test['Titulo'].tolist()\n",
    "pp_test = test['PrimeiroParag'].tolist()\n",
    "titulo_train = train['Titulo'].tolist()\n",
    "pp_train = train['PrimeiroParag'].tolist()\n",
    "titulo_todas = todas['Titulo'].tolist()\n",
    "pp_todas = todas['PrimeiroParag'].tolist()\n",
    "\n",
    "todas_test = titulo_test + pp_test\n",
    "todas_train = titulo_train + pp_train\n",
    "todas_juntas = titulo_todas + pp_todas"
   ]
  },
  {
   "cell_type": "code",
   "execution_count": 21,
   "metadata": {},
   "outputs": [],
   "source": [
    "#tabelas relativas das palavras em cada categoria\n",
    "tabela_abs_outros = formatador_tabela_abs(frases_outros)\n",
    "tabela_abs_polit = formatador_tabela_abs(frases_polit)\n",
    "tabela_abs_finan = formatador_tabela_abs(frases_finan)"
   ]
  },
  {
   "cell_type": "code",
   "execution_count": 22,
   "metadata": {},
   "outputs": [],
   "source": [
    "#tabelas de todas as palavras\n",
    "tabela_abs_todas = formatador_tabela_abs(todas_juntas)\n",
    "tabela_rel_todas = formatador_tabela_rel(todas_juntas)"
   ]
  },
  {
   "cell_type": "code",
   "execution_count": 23,
   "metadata": {
    "scrolled": true
   },
   "outputs": [],
   "source": [
    "# Probabilidade das categorias7\n",
    "Poutros = len(tabela_abs_outros)/len(tabela_rel_todas)\n",
    "Ppolit = len(tabela_abs_polit)/len(tabela_rel_todas)\n",
    "Pfinan = len(tabela_abs_finan)/len(tabela_rel_todas)"
   ]
  },
  {
   "cell_type": "code",
   "execution_count": 24,
   "metadata": {},
   "outputs": [
    {
     "name": "stdout",
     "output_type": "stream",
     "text": [
      "1\n"
     ]
    }
   ],
   "source": [
    "#frase de teste Retorno-> 0:Outros  1:Política  2:Mercado\n",
    "noticia1 = 'Governo aprova novo arcabouço para contabilidade de bancos, alinhado ao IFRS 9'\n",
    "print(calcula_prob_dada_modalidade(noticia1,tabela_abs_todas,tabela_abs_outros,tabela_abs_polit,tabela_abs_finan))"
   ]
  },
  {
   "cell_type": "markdown",
   "metadata": {},
   "source": [
    "___\n",
    "### Verificando a performance do Classificador\n",
    "\n",
    "<h5>Agora vamos testar o classificador com a base de Testes.</h5>"
   ]
  },
  {
   "cell_type": "code",
   "execution_count": 25,
   "metadata": {},
   "outputs": [
    {
     "name": "stdout",
     "output_type": "stream",
     "text": [
      "Acertos:72.67% -- Erros:27.17%\n"
     ]
    }
   ],
   "source": [
    "aa = verifica(test,tabela_abs_todas,tabela_abs_outros,tabela_abs_polit,tabela_abs_finan)\n",
    "print('Acertos:{}% -- Erros:{}%'.format(aa[0], aa[1]))"
   ]
  },
  {
   "cell_type": "markdown",
   "metadata": {},
   "source": [
    "___\n",
    "### Concluindo"
   ]
  },
  {
   "cell_type": "markdown",
   "metadata": {},
   "source": [
    "<h5>Após a implementação de um classificador Naive-Beyes e fazendo os devidos testes temos uma taxa de sucesso superior a 70% demonstrando a qualidade dos Targets escolhidos no processo e sua repetição presente nas notícias encontradas.</h5>"
   ]
  },
  {
   "cell_type": "markdown",
   "metadata": {},
   "source": [
    "___\n",
    "### Qualidade do Classificador a partir de novas separações das notícias entre Treinamento e Teste\n",
    "\n",
    "Caso for fazer esse item do Projeto"
   ]
  },
  {
   "cell_type": "code",
   "execution_count": null,
   "metadata": {},
   "outputs": [
    {
     "name": "stdout",
     "output_type": "stream",
     "text": [
      "Acertos:73.0% -- Erros:26.83%\n",
      "Acertos:72.17% -- Erros:27.67%\n",
      "Acertos:71.5% -- Erros:28.33%\n",
      "Acertos:71.67% -- Erros:28.17%\n",
      "Acertos:74.67% -- Erros:25.17%\n",
      "Acertos:71.67% -- Erros:28.17%\n",
      "Acertos:73.83% -- Erros:26.0%\n",
      "Acertos:70.5% -- Erros:29.33%\n",
      "Acertos:74.33% -- Erros:25.5%\n",
      "Acertos:74.83% -- Erros:25.0%\n",
      "...\n"
     ]
    }
   ],
   "source": [
    "repetidor(todas, 20)"
   ]
  },
  {
   "cell_type": "code",
   "execution_count": 37,
   "metadata": {},
   "outputs": [
    {
     "name": "stdout",
     "output_type": "stream",
     "text": [
      "Acertos:73.33% -- Erros:26.5%\n",
      "Acertos:73.67% -- Erros:26.17%\n",
      "Acertos:73.17% -- Erros:26.67%\n",
      "Acertos:73.67% -- Erros:26.17%\n",
      "Acertos:73.17% -- Erros:26.67%\n",
      "Acertos:73.17% -- Erros:26.67%\n",
      "Acertos:75.33% -- Erros:24.5%\n",
      "Acertos:76.83% -- Erros:23.0%\n",
      "Acertos:74.5% -- Erros:25.33%\n",
      "Acertos:74.5% -- Erros:25.33%\n",
      "...\n",
      "Calculando o restante dos percentuais...\n",
      "...\n",
      " \n",
      "Percentual médio de acertos: 73.72%\n",
      "Percentual médio de erros: 26.11%\n"
     ]
    },
    {
     "data": {
      "text/plain": [
       "()"
      ]
     },
     "execution_count": 37,
     "metadata": {},
     "output_type": "execute_result"
    },
    {
     "data": {
      "image/png": "[encoded data removed]",
      "text/plain": [
       "<Figure size 1296x720 with 1 Axes>"
      ]
     },
     "metadata": {
      "needs_background": "light"
     },
     "output_type": "display_data"
    }
   ],
   "source": [
    "repetidor(todas, 250)"
   ]
  },
  {
   "cell_type": "code",
   "execution_count": 38,
   "metadata": {},
   "outputs": [
    {
     "name": "stdout",
     "output_type": "stream",
     "text": [
      "Acertos:69.83% -- Erros:30.0%\n",
      "Acertos:71.5% -- Erros:28.33%\n",
      "Acertos:74.17% -- Erros:25.67%\n",
      "Acertos:75.5% -- Erros:24.33%\n",
      "Acertos:70.5% -- Erros:29.33%\n",
      "Acertos:75.33% -- Erros:24.5%\n",
      "Acertos:76.83% -- Erros:23.0%\n",
      "Acertos:72.17% -- Erros:27.67%\n",
      "Acertos:74.67% -- Erros:25.17%\n",
      "Acertos:71.33% -- Erros:28.5%\n",
      "...\n",
      "Calculando o restante dos percentuais...\n",
      "...\n",
      " \n",
      "Percentual médio de acertos: 73.68%\n",
      "Percentual médio de erros: 26.15%\n"
     ]
    },
    {
     "data": {
      "text/plain": [
       "()"
      ]
     },
     "execution_count": 38,
     "metadata": {},
     "output_type": "execute_result"
    },
    {
     "data": {
      "image/png": "[encoded data removed]",
      "text/plain": [
       "<Figure size 1296x720 with 1 Axes>"
      ]
     },
     "metadata": {
      "needs_background": "light"
     },
     "output_type": "display_data"
    }
   ],
   "source": [
    "repetidor(todas, 500)"
   ]
  },
  {
   "cell_type": "code",
   "execution_count": 39,
   "metadata": {},
   "outputs": [
    {
     "name": "stdout",
     "output_type": "stream",
     "text": [
      "Acertos:72.83% -- Erros:27.0%\n",
      "Acertos:76.5% -- Erros:23.33%\n",
      "Acertos:77.33% -- Erros:22.5%\n",
      "Acertos:70.17% -- Erros:29.67%\n",
      "Acertos:73.83% -- Erros:26.0%\n",
      "Acertos:71.67% -- Erros:28.17%\n",
      "Acertos:72.33% -- Erros:27.5%\n",
      "Acertos:76.0% -- Erros:23.83%\n",
      "Acertos:70.17% -- Erros:29.67%\n",
      "Acertos:76.83% -- Erros:23.0%\n",
      "...\n",
      "Calculando o restante dos percentuais...\n",
      "...\n",
      " \n",
      "Percentual médio de acertos: 73.83%\n",
      "Percentual médio de erros: 26.01%\n"
     ]
    },
    {
     "data": {
      "text/plain": [
       "()"
      ]
     },
     "execution_count": 39,
     "metadata": {},
     "output_type": "execute_result"
    },
    {
     "data": {
      "image/png": "[encoded data removed]",
      "text/plain": [
       "<Figure size 1296x720 with 1 Axes>"
      ]
     },
     "metadata": {
      "needs_background": "light"
     },
     "output_type": "display_data"
    }
   ],
   "source": [
    "repetidor(todas, len(todas))"
   ]
  },
  {
   "cell_type": "markdown",
   "metadata": {},
   "source": [
    "___\n",
    "## Aperfeiçoamento:\n",
    "\n",
    "Trabalhos que conseguirem pelo menos conceito B vão evoluir em conceito dependendo da quantidade de itens avançados:\n",
    "\n",
    "* IMPLEMENTOU outras limpezas e transformações que não afetem a qualidade da informação contida nas notícias. Ex: stemming, lemmatization, stopwords\n",
    "* CONSIDEROU mais de duas caterogias na variável Target e INCREMENTOU a quantidade de notícias, mantendo pelo menos 250 notícias por caterogia (OBRIGATÓRIO PARA TRIOS, sem contar como item avançado)\n",
    "* Para Target com duas categorias: CRIOU pelo menos quatro categorias intermediárias de relevância baseadas na probabilidade: ex.: muito relevante, relevante, neutro, irrelevante, muito irrelevante\n",
    "* EXPLICOU porquê não pode usar o próprio classificador para gerar mais amostras de treinamento\n",
    "* PROPÔS diferentes cenários para Naïve Bayes fora do contexto do projeto (pelo menos dois cenários, exceto aqueles já apresentados em sala pelos professores: por exemplo, filtro de spam)\n",
    "* SUGERIU e EXPLICOU melhorias reais com indicações concretas de como implementar (indicar como fazer e indicar material de pesquisa)\n",
    "* FEZ o item Qualidade do Classificador a partir de novas separações das Notícias entre Treinamento e Teste descrito no enunciado do projeto (OBRIGATÓRIO para conceitos A ou A+)"
   ]
  },
  {
   "cell_type": "markdown",
   "metadata": {},
   "source": [
    "___\n",
    "## Referências"
   ]
  },
  {
   "cell_type": "markdown",
   "metadata": {},
   "source": [
    "[Naive Bayes and Text Classification](https://arxiv.org/pdf/1410.5329.pdf)  **Mais completo**\n",
    "\n",
    "[A practical explanation of a Naive Bayes Classifier](https://monkeylearn.com/blog/practical-explanation-naive-bayes-classifier/) **Mais simples**"
   ]
  },
  {
   "cell_type": "code",
   "execution_count": null,
   "metadata": {},
   "outputs": [],
   "source": []
  },
  {
   "cell_type": "code",
   "execution_count": null,
   "metadata": {},
   "outputs": [],
   "source": []
  },
  {
   "cell_type": "code",
   "execution_count": null,
   "metadata": {},
   "outputs": [],
   "source": []
  }
 ],
 "metadata": {
  "kernelspec": {
   "display_name": "Python 3 (ipykernel)",
   "language": "python",
   "name": "python3"
  },
  "language_info": {
   "codemirror_mode": {
    "name": "ipython",
    "version": 3
   },
   "file_extension": ".py",
   "mimetype": "text/x-python",
   "name": "python",
   "nbconvert_exporter": "python",
   "pygments_lexer": "ipython3",
   "version": "3.9.7"
  }
 },
 "nbformat": 4,
 "nbformat_minor": 4
}
